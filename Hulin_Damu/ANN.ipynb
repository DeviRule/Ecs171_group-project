{
 "cells": [
  {
   "cell_type": "code",
   "execution_count": 34,
   "metadata": {},
   "outputs": [],
   "source": [
    "import tensorflow as tf\n",
    "import pandas as pd\n",
    "import numpy as np\n",
    "from sklearn.ensemble import IsolationForest\n",
    "from sklearn.neighbors import LocalOutlierFactor\n",
    "from sklearn.model_selection import train_test_split\n",
    "from tensorflow.keras.models import Sequential\n",
    "from tensorflow.keras.layers import Dense\n",
    "from tensorflow.keras.layers import Dropout\n",
    "from tensorflow.keras.layers import Activation\n",
    "from tensorflow.keras.layers import LeakyReLU\n",
    "from tensorflow.keras.losses import mean_squared_error\n",
    "from tensorflow.keras.utils import to_categorical\n",
    "from tensorflow.keras.models import Model\n",
    "from tensorflow.keras.callbacks import Callback\n",
    "from sklearn.metrics import make_scorer,classification_report, matthews_corrcoef,accuracy_score, average_precision_score, roc_auc_score,roc_curve,precision_recall_curve\n",
    "import matplotlib.pyplot as plt\n",
    "from inspect import signature\n",
    "\n"
   ]
  },
  {
   "cell_type": "code",
   "execution_count": 35,
   "metadata": {},
   "outputs": [],
   "source": [
    "def ANN():\n",
    "    df_train = pd.read_csv('../Data/train.csv')\n",
    "    df_test = pd.read_csv('../Data/validation.csv')\n",
    "    \n",
    "    df_test_under = pd.read_csv('../Data/validation_under.csv')\n",
    "    \n",
    "    # preprocessing data    \n",
    "    df_train_data = df_train.drop(columns = ['Amount','Class'])\n",
    "    df_train_result = df_train['Class']\n",
    "    df_train_result = to_categorical(df_train_result)\n",
    "    \n",
    "    df_test_data = df_test.drop(columns = ['Amount','Class'])\n",
    "    df_test_result = df_test['Class']\n",
    "    \n",
    "    df_test_under_data = df_test_under.drop(columns = ['Amount','Class'])\n",
    "    df_test_under_result = df_test_under['Class']\n",
    "\n",
    "\n",
    "    df_test_result = to_categorical(df_test_result)\n",
    "    #create ANN model\n",
    "    model = Sequential([\n",
    "        Dense(64, kernel_initializer='glorot_normal',\n",
    "                bias_initializer='zeros',input_shape=(16,),activation = 'relu'),\n",
    "        Dropout(0.4),\n",
    "        Dense(64,  kernel_initializer='glorot_normal',\n",
    "                bias_initializer='zeros', activation='relu'),\n",
    "        Dropout(0.4),\n",
    "        Dense(64,  kernel_initializer='glorot_normal',\n",
    "                bias_initializer='zeros',activation='relu'),\n",
    "        Dropout(0.4),\n",
    "        Dense(64,  kernel_initializer='glorot_normal',\n",
    "                bias_initializer='zeros',activation='relu'),\n",
    "        Dropout(0.4),\n",
    "        Dense(2,activation='softmax')\n",
    "        ])\n",
    "    \n",
    "    model.compile(\n",
    "        optimizer='adam',\n",
    "        loss= 'binary_crossentropy',\n",
    "        metrics=['accuracy']\n",
    "        )\n",
    "    epoch = 500   # should be 450 - 500\n",
    "    batch_size = 2048\n",
    "    model.fit(df_train_data,df_train_result,epochs = epoch, batch_size = batch_size)\n",
    "    \n",
    "    #prediction\n",
    "    df_test_pred = model.predict(df_test_data)\n",
    "    pred = np.argmax(df_test_pred, axis=1).tolist()\n",
    "    print('CLASSIFICATION REPORT')\n",
    "    df_test_report = df_test['Class'].tolist()\n",
    "    print(classification_report(df_test_report, pred,output_dict =True))\n",
    "    \n",
    "    #undersample prediction\n",
    "    df_test_under_pred = model.predict(df_test_under_data)\n",
    "    pred_under = np.argmax(df_test_under_pred, axis=1).tolist()\n",
    "    print('CLASSIFICATION REPORT')\n",
    "    df_test_under_report = df_test_under['Class'].tolist()\n",
    "    print(classification_report(df_test_under_report, pred_under,output_dict =True))\n",
    "    fpr, tpr, thresholds = roc_curve(df_test_under_report, pred_under, pos_label=1)\n",
    "    \n",
    "    #roc curve\n",
    "    auc = roc_auc_score(df_test_under_report, pred_under)\n",
    "    print('roc_auc_score')\n",
    "    print(auc)\n",
    "    plt.plot(fpr, tpr, color='darkorange')\n",
    "    plt.ylim([0.0, 1.05])\n",
    "    plt.xlabel('False Positive Rate')\n",
    "    plt.ylabel('True Positive Rate')\n",
    "    plt.title('Receiver operating characteristic example')\n",
    "    plt.show()\n",
    "    \n",
    "    #pr curve\n",
    "    step_kwargs = ({'step': 'post'}\n",
    "               if 'step' in signature(plt.fill_between).parameters\n",
    "               else {})\n",
    "    precision, recall, _ = precision_recall_curve(df_test_under_report, pred_under)\n",
    "    plt.step(recall, precision, color='b', alpha=0.2,\n",
    "         where='post')\n",
    "    plt.fill_between(recall, precision, alpha=0.2, color='b', **step_kwargs)\n",
    "    plt.xlabel('Recall')\n",
    "    plt.ylabel('Precision')\n",
    "    plt.ylim([0.0, 1.05])\n",
    "    plt.xlim([0.0, 1.0])\n",
    "    plt.title('2-class Precision-Recall curve')"
   ]
  },
  {
   "cell_type": "code",
   "execution_count": 36,
   "metadata": {},
   "outputs": [
    {
     "name": "stdout",
     "output_type": "stream",
     "text": [
      "WARNING:tensorflow:Falling back from v2 loop because of error: Failed to find data adapter that can handle input: <class 'pandas.core.frame.DataFrame'>, <class 'NoneType'>\n",
      "Train on 185123 samples\n",
      "Epoch 1/10\n",
      "185123/185123 [==============================] - 3s 17us/sample - loss: 0.1480 - accuracy: 0.9391\n",
      "Epoch 2/10\n",
      "185123/185123 [==============================] - 2s 11us/sample - loss: 0.0186 - accuracy: 0.9983\n",
      "Epoch 3/10\n",
      "185123/185123 [==============================] - 2s 11us/sample - loss: 0.0090 - accuracy: 0.9983\n",
      "Epoch 4/10\n",
      "185123/185123 [==============================] - 2s 11us/sample - loss: 0.0073 - accuracy: 0.9983\n",
      "Epoch 5/10\n",
      "185123/185123 [==============================] - 2s 11us/sample - loss: 0.0062 - accuracy: 0.9983\n",
      "Epoch 6/10\n",
      "185123/185123 [==============================] - 2s 11us/sample - loss: 0.0054 - accuracy: 0.9983\n",
      "Epoch 7/10\n",
      "185123/185123 [==============================] - 2s 11us/sample - loss: 0.0049 - accuracy: 0.9983\n",
      "Epoch 8/10\n",
      "185123/185123 [==============================] - 2s 11us/sample - loss: 0.0049 - accuracy: 0.9983\n",
      "Epoch 9/10\n",
      "185123/185123 [==============================] - 2s 11us/sample - loss: 0.0047 - accuracy: 0.9983\n",
      "Epoch 10/10\n",
      "185123/185123 [==============================] - 2s 11us/sample - loss: 0.0046 - accuracy: 0.9983\n",
      "WARNING:tensorflow:Falling back from v2 loop because of error: Failed to find data adapter that can handle input: <class 'pandas.core.frame.DataFrame'>, <class 'NoneType'>\n",
      "CLASSIFICATION REPORT\n",
      "{'0': {'precision': 0.9982645158701496, 'recall': 1.0, 'f1-score': 0.999131504304827, 'support': 99511}, '1': {'precision': 0.0, 'recall': 0.0, 'f1-score': 0.0, 'support': 173}, 'accuracy': 0.9982645158701496, 'macro avg': {'precision': 0.4991322579350748, 'recall': 0.5, 'f1-score': 0.4995657521524135, 'support': 99684}, 'weighted avg': {'precision': 0.9965320436454642, 'recall': 0.9982645158701496, 'f1-score': 0.9973975274354725, 'support': 99684}}\n",
      "WARNING:tensorflow:Falling back from v2 loop because of error: Failed to find data adapter that can handle input: <class 'pandas.core.frame.DataFrame'>, <class 'NoneType'>\n",
      "CLASSIFICATION REPORT\n",
      "{'0': {'precision': 0.5, 'recall': 1.0, 'f1-score': 0.6666666666666666, 'support': 173}, '1': {'precision': 0.0, 'recall': 0.0, 'f1-score': 0.0, 'support': 173}, 'accuracy': 0.5, 'macro avg': {'precision': 0.25, 'recall': 0.5, 'f1-score': 0.3333333333333333, 'support': 346}, 'weighted avg': {'precision': 0.25, 'recall': 0.5, 'f1-score': 0.3333333333333333, 'support': 346}}\n",
      "roc_auc_score\n",
      "0.5\n"
     ]
    },
    {
     "data": {
      "image/png": "[encoded data removed]",
      "text/plain": [
       "<Figure size 432x288 with 1 Axes>"
      ]
     },
     "metadata": {
      "needs_background": "light"
     },
     "output_type": "display_data"
    },
    {
     "data": {
      "image/png": "[encoded data removed]",
      "text/plain": [
       "<Figure size 432x288 with 1 Axes>"
      ]
     },
     "metadata": {
      "needs_background": "light"
     },
     "output_type": "display_data"
    }
   ],
   "source": [
    "ANN()"
   ]
  },
  {
   "cell_type": "code",
   "execution_count": null,
   "metadata": {},
   "outputs": [],
   "source": []
  },
  {
   "cell_type": "code",
   "execution_count": null,
   "metadata": {},
   "outputs": [],
   "source": []
  }
 ],
 "metadata": {
  "kernelspec": {
   "display_name": "Python 3",
   "language": "python",
   "name": "python3"
  },
  "language_info": {
   "codemirror_mode": {
    "name": "ipython",
    "version": 3
   },
   "file_extension": ".py",
   "mimetype": "text/x-python",
   "name": "python",
   "nbconvert_exporter": "python",
   "pygments_lexer": "ipython3",
   "version": "3.7.5"
  },
  "varInspector": {
   "cols": {
    "lenName": 16,
    "lenType": 16,
    "lenVar": 40
   },
   "kernels_config": {
    "python": {
     "delete_cmd_postfix": "",
     "delete_cmd_prefix": "del ",
     "library": "var_list.py",
     "varRefreshCmd": "print(var_dic_list())"
    },
    "r": {
     "delete_cmd_postfix": ") ",
     "delete_cmd_prefix": "rm(",
     "library": "var_list.r",
     "varRefreshCmd": "cat(var_dic_list()) "
    }
   },
   "types_to_exclude": [
    "module",
    "function",
    "builtin_function_or_method",
    "instance",
    "_Feature"
   ],
   "window_display": false
  }
 },
 "nbformat": 4,
 "nbformat_minor": 2
}
