{
 "cells": [
  {
   "cell_type": "code",
   "execution_count": 47,
   "metadata": {},
   "outputs": [],
   "source": [
    "import tensorflow as tf\n",
    "import pandas as pd\n",
    "import numpy as np\n",
    "from sklearn.ensemble import IsolationForest\n",
    "from sklearn.neighbors import LocalOutlierFactor\n",
    "from sklearn.model_selection import train_test_split\n",
    "from tensorflow.keras.models import Sequential\n",
    "from tensorflow.keras.layers import Dense\n",
    "from tensorflow.keras.layers import Dropout\n",
    "from tensorflow.keras.layers import Activation\n",
    "from tensorflow.keras.layers import LeakyReLU\n",
    "from tensorflow.keras.losses import mean_squared_error\n",
    "from tensorflow.keras.utils import to_categorical\n",
    "from tensorflow.keras.models import Model\n",
    "from tensorflow.keras.callbacks import Callback\n",
    "from sklearn.metrics import make_scorer,classification_report, matthews_corrcoef,accuracy_score, average_precision_score, roc_auc_score\n"
   ]
  },
  {
   "cell_type": "code",
   "execution_count": 70,
   "metadata": {},
   "outputs": [],
   "source": [
    "def ANN():\n",
    "    df_train = pd.read_csv('../Data/train.csv')\n",
    "    df_test = pd.read_csv('../Data/validation.csv')\n",
    "    \n",
    "    # preprocessing data    \n",
    "    df_train_data = df_train.drop(columns = ['Amount','Class'])\n",
    "    df_train_result = df_train['Class']\n",
    "    df_train_result = to_categorical(df_train_result)\n",
    "    \n",
    "    df_test_data = df_test.drop(columns = ['Amount','Class'])\n",
    "    df_test_result = df_test['Class']\n",
    "\n",
    "\n",
    "    df_test_result = to_categorical(df_test_result)\n",
    "    #create ANN model\n",
    "    model = Sequential([\n",
    "        Dense(64, kernel_initializer='glorot_normal',\n",
    "                bias_initializer='zeros',input_shape=(16,),activation = 'relu'),\n",
    "        Dropout(0.4),\n",
    "        Dense(64,  kernel_initializer='glorot_normal',\n",
    "                bias_initializer='zeros', activation='relu'),\n",
    "        Dropout(0.4),\n",
    "        Dense(64,  kernel_initializer='glorot_normal',\n",
    "                bias_initializer='zeros',activation='relu'),\n",
    "        Dropout(0.4),\n",
    "        Dense(64,  kernel_initializer='glorot_normal',\n",
    "                bias_initializer='zeros',activation='relu'),\n",
    "        Dropout(0.4),\n",
    "        Dense(2,activation='softmax')\n",
    "        ])\n",
    "    \n",
    "    model.compile(\n",
    "        optimizer='adam',\n",
    "        loss= 'binary_crossentropy',\n",
    "        metrics=['accuracy']\n",
    "        )\n",
    "    epoch = 10\n",
    "    batch_size = 2048\n",
    "    model.fit(df_train_data,df_train_result,epochs = epoch, batch_size = batch_size)\n",
    "    \n",
    "    df_test_pred = model.predict(df_test_data)\n",
    "    pred = np.argmax(df_test_pred, axis=1).tolist()\n",
    "    print('CLASSIFICATION REPORT')\n",
    "    df_test_report = df_test['Class'].tolist()\n",
    "    print(classification_report(df_test_report, pred))"
   ]
  },
  {
   "cell_type": "code",
   "execution_count": 71,
   "metadata": {},
   "outputs": [
    {
     "name": "stdout",
     "output_type": "stream",
     "text": [
      "WARNING:tensorflow:Falling back from v2 loop because of error: Failed to find data adapter that can handle input: <class 'pandas.core.frame.DataFrame'>, <class 'NoneType'>\n",
      "Train on 185123 samples\n",
      "Epoch 1/10\n",
      "185123/185123 [==============================] - 2s 9us/sample - loss: 0.1015 - accuracy: 0.9705\n",
      "Epoch 2/10\n",
      "185123/185123 [==============================] - 1s 6us/sample - loss: 0.0256 - accuracy: 0.9983\n",
      "Epoch 3/10\n",
      "185123/185123 [==============================] - 1s 6us/sample - loss: 0.0152 - accuracy: 0.9983\n",
      "Epoch 4/10\n",
      "185123/185123 [==============================] - 1s 6us/sample - loss: 0.0073 - accuracy: 0.9983\n",
      "Epoch 5/10\n",
      "185123/185123 [==============================] - 1s 6us/sample - loss: 0.0064 - accuracy: 0.9983\n",
      "Epoch 6/10\n",
      "185123/185123 [==============================] - 1s 6us/sample - loss: 0.0057 - accuracy: 0.9983\n",
      "Epoch 7/10\n",
      "185123/185123 [==============================] - 1s 6us/sample - loss: 0.0053 - accuracy: 0.9983\n",
      "Epoch 8/10\n",
      "185123/185123 [==============================] - 1s 7us/sample - loss: 0.0050 - accuracy: 0.9983\n",
      "Epoch 9/10\n",
      "185123/185123 [==============================] - 2s 9us/sample - loss: 0.0047 - accuracy: 0.9983\n",
      "Epoch 10/10\n",
      "185123/185123 [==============================] - 2s 8us/sample - loss: 0.0048 - accuracy: 0.9984\n",
      "WARNING:tensorflow:Falling back from v2 loop because of error: Failed to find data adapter that can handle input: <class 'pandas.core.frame.DataFrame'>, <class 'NoneType'>\n",
      "CLASSIFICATION REPORT\n",
      "              precision    recall  f1-score   support\n",
      "\n",
      "           0       1.00      1.00      1.00     99511\n",
      "           1       0.97      0.20      0.33       173\n",
      "\n",
      "    accuracy                           1.00     99684\n",
      "   macro avg       0.99      0.60      0.67     99684\n",
      "weighted avg       1.00      1.00      1.00     99684\n",
      "\n"
     ]
    }
   ],
   "source": [
    "ANN()"
   ]
  },
  {
   "cell_type": "code",
   "execution_count": null,
   "metadata": {},
   "outputs": [],
   "source": []
  }
 ],
 "metadata": {
  "kernelspec": {
   "display_name": "Python 3",
   "language": "python",
   "name": "python3"
  },
  "language_info": {
   "codemirror_mode": {
    "name": "ipython",
    "version": 3
   },
   "file_extension": ".py",
   "mimetype": "text/x-python",
   "name": "python",
   "nbconvert_exporter": "python",
   "pygments_lexer": "ipython3",
   "version": "3.7.5"
  },
  "varInspector": {
   "cols": {
    "lenName": 16,
    "lenType": 16,
    "lenVar": 40
   },
   "kernels_config": {
    "python": {
     "delete_cmd_postfix": "",
     "delete_cmd_prefix": "del ",
     "library": "var_list.py",
     "varRefreshCmd": "print(var_dic_list())"
    },
    "r": {
     "delete_cmd_postfix": ") ",
     "delete_cmd_prefix": "rm(",
     "library": "var_list.r",
     "varRefreshCmd": "cat(var_dic_list()) "
    }
   },
   "types_to_exclude": [
    "module",
    "function",
    "builtin_function_or_method",
    "instance",
    "_Feature"
   ],
   "window_display": false
  }
 },
 "nbformat": 4,
 "nbformat_minor": 2
}
