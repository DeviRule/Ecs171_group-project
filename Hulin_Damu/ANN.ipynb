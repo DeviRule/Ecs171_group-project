{
 "cells": [
  {
   "cell_type": "code",
   "execution_count": 1,
   "metadata": {},
   "outputs": [],
   "source": [
    "import tensorflow as tf\n",
    "import pandas as pd\n",
    "import numpy as np\n",
    "from sklearn.ensemble import IsolationForest\n",
    "from sklearn.neighbors import LocalOutlierFactor\n",
    "from sklearn.model_selection import train_test_split\n",
    "from tensorflow.keras.models import Sequential\n",
    "from tensorflow.keras.layers import Dense\n",
    "from tensorflow.keras.layers import Dropout\n",
    "from tensorflow.keras.layers import Activation\n",
    "from tensorflow.keras.layers import LeakyReLU\n",
    "from tensorflow.keras.losses import mean_squared_error\n",
    "from tensorflow.keras.utils import to_categorical\n",
    "from tensorflow.keras.models import Model\n",
    "from tensorflow.keras.callbacks import Callback\n",
    "from sklearn.metrics import auc,make_scorer,classification_report,f1_score,accuracy_score, average_precision_score, roc_auc_score,roc_curve,precision_recall_curve\n",
    "from sklearn.model_selection import StratifiedKFold\n",
    "import matplotlib.pyplot as plt\n",
    "from inspect import signature\n",
    "from scipy import interp"
   ]
  },
  {
   "cell_type": "code",
   "execution_count": 31,
   "metadata": {},
   "outputs": [],
   "source": [
    "def Draw_ROC(Y_prob, Y_observed, model_name = 'ANN'):\n",
    "    ns_probs = [0 for _ in range(len(Y_observed))]\n",
    "    # calculate scores\n",
    "    ns_auc = roc_auc_score(Y_observed, ns_probs)\n",
    "    lr_auc = roc_auc_score(Y_observed, Y_prob)\n",
    "    # summarize scores\n",
    "    print('Chance: ROC AUC=%.3f' % (ns_auc))\n",
    "    print('%s: ROC AUC=%.3f' % (model_name, lr_auc))\n",
    "    # calculate roc curves\n",
    "    ns_fpr, ns_tpr, _ = roc_curve(Y_observed, ns_probs, pos_label=1)\n",
    "    lr_fpr, lr_tpr, _ = roc_curve(Y_observed, Y_prob, pos_label=1)\n",
    "    # plot the roc curve for the model\n",
    "    plt.plot(ns_fpr, ns_tpr, linestyle='--', label='Chance')\n",
    "    plt.plot(lr_fpr, lr_tpr, marker='.', label=model_name)\n",
    "    # axis labels\n",
    "    plt.xlabel('False Positive Rate')\n",
    "    plt.ylabel('True Positive Rate')\n",
    "    # show the legend\n",
    "    plt.legend()\n",
    "    # show the plot\n",
    "    plt.show()\n"
   ]
  },
  {
   "cell_type": "code",
   "execution_count": 32,
   "metadata": {},
   "outputs": [],
   "source": [
    "def Draw_PR(Y_prob, Y_predicted, Y_observed, model_name = 'ANN'):\n",
    "    # predict class values\n",
    "    lr_precision, lr_recall, _ = precision_recall_curve(Y_observed, Y_prob, pos_label=1)\n",
    "    lr_f1, lr_auc = f1_score(Y_observed, Y_predicted), auc(lr_recall, lr_precision)\n",
    "    # summarize scores\n",
    "    print('Logistic: f1=%.3f auc=%.3f' % (lr_f1, lr_auc))\n",
    "    # plot the precision-recall curves\n",
    "    no_skill = len(Y_observed[Y_observed==1]) / len(Y_observed)\n",
    "    plt.plot([0, 1], [no_skill, no_skill], linestyle='--', label='Chance')\n",
    "    plt.plot(lr_recall, lr_precision, marker='.', label=model_name)\n",
    "    # axis labels\n",
    "    plt.xlabel('Recall')\n",
    "    plt.ylabel('Precision')\n",
    "    # show the legend\n",
    "    plt.legend()\n",
    "    # show the plot\n",
    "    plt.show()"
   ]
  },
  {
   "cell_type": "code",
   "execution_count": 33,
   "metadata": {},
   "outputs": [],
   "source": [
    "def ANN():\n",
    "    df_train = pd.read_csv('../Data/train.csv')\n",
    "    df_test = pd.read_csv('../Data/validation.csv')\n",
    "    \n",
    "    df_test_under = pd.read_csv('../Data/validation_under.csv')\n",
    "    \n",
    "    # preprocessing data    \n",
    "    df_train_data = df_train.drop(columns = ['Amount','Class'])\n",
    "    df_train_result = df_train['Class']\n",
    "    df_train_result = to_categorical(df_train_result)\n",
    "    \n",
    "    df_test_data = df_test.drop(columns = ['Amount','Class'])\n",
    "    df_test_result = df_test['Class']\n",
    "    \n",
    "    df_test_under_data = df_test_under.drop(columns = ['Amount','Class'])\n",
    "    df_test_under_result = df_test_under['Class']\n",
    "\n",
    "\n",
    "    df_test_result = to_categorical(df_test_result)\n",
    "    epochs = 1\n",
    "    #create ANN model\n",
    "    model = Sequential([\n",
    "        Dense(64, kernel_initializer='glorot_normal',\n",
    "                bias_initializer='zeros',input_shape=(16,),activation = 'relu'),\n",
    "        Dropout(0.4),\n",
    "        Dense(64,  kernel_initializer='glorot_normal',\n",
    "                bias_initializer='zeros', activation='relu'),\n",
    "        Dropout(0.4),\n",
    "        Dense(64,  kernel_initializer='glorot_normal',\n",
    "                bias_initializer='zeros',activation='relu'),\n",
    "        Dropout(0.4),\n",
    "        Dense(64,  kernel_initializer='glorot_normal',\n",
    "                bias_initializer='zeros',activation='relu'),\n",
    "        Dropout(0.4),\n",
    "        Dense(2,activation='softmax')\n",
    "        ])\n",
    "    \n",
    "    model.compile(\n",
    "        optimizer='adam',\n",
    "        loss= 'binary_crossentropy',\n",
    "        metrics=['accuracy']\n",
    "        )\n",
    "    epoch = epochs   # should be 450 - 500\n",
    "    batch_size = 2048\n",
    "    model.fit(df_train_data,df_train_result,epochs = epoch, batch_size = batch_size)\n",
    "    \n",
    "    #prediction\n",
    "    df_test_pred = model.predict(df_test_data)\n",
    "    pred = np.argmax(df_test_pred, axis=1).tolist()\n",
    "    print('CLASSIFICATION REPORT')\n",
    "    df_test_report = df_test['Class'].tolist()\n",
    "    print(classification_report(df_test_report, pred))\n",
    "    \n",
    "    #undersample prediction\n",
    "    df_test_under_pred = model.predict(df_test_under_data)\n",
    "    pred_under = np.argmax(df_test_under_pred, axis=1).tolist()\n",
    "    print('CLASSIFICATION REPORT FOR UNDERSAMPLING DATASET')\n",
    "    df_test_under_report = df_test_under['Class'].to_numpy()\n",
    "    print(classification_report(df_test_under_report, pred_under))\n",
    "    \n",
    "    df_test_under_prob = [df_test_under_pred[i][pred_under[i]] for i in range(0,len(pred_under))]\n",
    "\n",
    "    Draw_ROC(df_test_under_prob,df_test_under_report)\n",
    "    Draw_PR(df_test_under_prob,pred_under,df_test_under_report)\n",
    "   "
   ]
  },
  {
   "cell_type": "code",
   "execution_count": 34,
   "metadata": {
    "scrolled": false
   },
   "outputs": [
    {
     "name": "stdout",
     "output_type": "stream",
     "text": [
      "WARNING:tensorflow:Falling back from v2 loop because of error: Failed to find data adapter that can handle input: <class 'pandas.core.frame.DataFrame'>, <class 'NoneType'>\n",
      "Train on 185123 samples\n",
      "185123/185123 [==============================] - 2s 9us/sample - loss: 0.0948 - accuracy: 0.9774\n",
      "WARNING:tensorflow:Falling back from v2 loop because of error: Failed to find data adapter that can handle input: <class 'pandas.core.frame.DataFrame'>, <class 'NoneType'>\n",
      "CLASSIFICATION REPORT\n",
      "              precision    recall  f1-score   support\n",
      "\n",
      "           0       1.00      1.00      1.00     99511\n",
      "           1       0.00      0.00      0.00       173\n",
      "\n",
      "    accuracy                           1.00     99684\n",
      "   macro avg       0.50      0.50      0.50     99684\n",
      "weighted avg       1.00      1.00      1.00     99684\n",
      "\n",
      "WARNING:tensorflow:Falling back from v2 loop because of error: Failed to find data adapter that can handle input: <class 'pandas.core.frame.DataFrame'>, <class 'NoneType'>\n"
     ]
    },
    {
     "name": "stderr",
     "output_type": "stream",
     "text": [
      "C:\\Users\\wangh\\Anaconda3\\envs\\tf2\\lib\\site-packages\\sklearn\\metrics\\classification.py:1437: UndefinedMetricWarning: Precision and F-score are ill-defined and being set to 0.0 in labels with no predicted samples.\n",
      "  'precision', 'predicted', average, warn_for)\n"
     ]
    },
    {
     "name": "stdout",
     "output_type": "stream",
     "text": [
      "CLASSIFICATION REPORT FOR UNDERSAMPLING DATASET\n",
      "              precision    recall  f1-score   support\n",
      "\n",
      "           0       0.50      1.00      0.67       173\n",
      "           1       0.00      0.00      0.00       173\n",
      "\n",
      "    accuracy                           0.50       346\n",
      "   macro avg       0.25      0.50      0.33       346\n",
      "weighted avg       0.25      0.50      0.33       346\n",
      "\n",
      "Chance: ROC AUC=0.500\n",
      "ANN: ROC AUC=0.886\n"
     ]
    },
    {
     "data": {
      "image/png": "[encoded data removed]",
      "text/plain": [
       "<Figure size 432x288 with 1 Axes>"
      ]
     },
     "metadata": {
      "needs_background": "light"
     },
     "output_type": "display_data"
    },
    {
     "name": "stdout",
     "output_type": "stream",
     "text": [
      "Logistic: f1=0.000 auc=0.904\n"
     ]
    },
    {
     "name": "stderr",
     "output_type": "stream",
     "text": [
      "C:\\Users\\wangh\\Anaconda3\\envs\\tf2\\lib\\site-packages\\sklearn\\metrics\\classification.py:1437: UndefinedMetricWarning: F-score is ill-defined and being set to 0.0 due to no predicted samples.\n",
      "  'precision', 'predicted', average, warn_for)\n"
     ]
    },
    {
     "data": {
      "image/png": "[encoded data removed]",
      "text/plain": [
       "<Figure size 432x288 with 1 Axes>"
      ]
     },
     "metadata": {
      "needs_background": "light"
     },
     "output_type": "display_data"
    }
   ],
   "source": [
    "ANN()"
   ]
  },
  {
   "cell_type": "code",
   "execution_count": null,
   "metadata": {
    "scrolled": true
   },
   "outputs": [],
   "source": []
  },
  {
   "cell_type": "code",
   "execution_count": null,
   "metadata": {},
   "outputs": [],
   "source": []
  },
  {
   "cell_type": "code",
   "execution_count": null,
   "metadata": {},
   "outputs": [],
   "source": []
  }
 ],
 "metadata": {
  "kernelspec": {
   "display_name": "Python 3",
   "language": "python",
   "name": "python3"
  },
  "language_info": {
   "codemirror_mode": {
    "name": "ipython",
    "version": 3
   },
   "file_extension": ".py",
   "mimetype": "text/x-python",
   "name": "python",
   "nbconvert_exporter": "python",
   "pygments_lexer": "ipython3",
   "version": "3.7.5"
  },
  "varInspector": {
   "cols": {
    "lenName": 16,
    "lenType": 16,
    "lenVar": 40
   },
   "kernels_config": {
    "python": {
     "delete_cmd_postfix": "",
     "delete_cmd_prefix": "del ",
     "library": "var_list.py",
     "varRefreshCmd": "print(var_dic_list())"
    },
    "r": {
     "delete_cmd_postfix": ") ",
     "delete_cmd_prefix": "rm(",
     "library": "var_list.r",
     "varRefreshCmd": "cat(var_dic_list()) "
    }
   },
   "types_to_exclude": [
    "module",
    "function",
    "builtin_function_or_method",
    "instance",
    "_Feature"
   ],
   "window_display": false
  }
 },
 "nbformat": 4,
 "nbformat_minor": 2
}
