{
 "cells": [
  {
   "cell_type": "code",
   "execution_count": 29,
   "metadata": {},
   "outputs": [],
   "source": [
    "import tensorflow as tf\n",
    "import pandas as pd\n",
    "import numpy as np\n",
    "from sklearn.ensemble import IsolationForest\n",
    "from sklearn.neighbors import LocalOutlierFactor\n",
    "from sklearn.model_selection import train_test_split\n",
    "from tensorflow.keras.models import Sequential\n",
    "from tensorflow.keras.layers import Dense\n",
    "from tensorflow.keras.layers import Dropout\n",
    "from tensorflow.keras.layers import Activation\n",
    "from tensorflow.keras.layers import LeakyReLU\n",
    "from tensorflow.keras.losses import mean_squared_error\n",
    "from tensorflow.keras.utils import to_categorical\n",
    "from tensorflow.keras.models import Model\n",
    "from tensorflow.keras.callbacks import Callback"
   ]
  },
  {
   "cell_type": "code",
   "execution_count": 37,
   "metadata": {},
   "outputs": [],
   "source": [
    "def ANN():\n",
    "    df_train = pd.read_csv('../Data/train.csv')\n",
    "    df_test = pd.read_csv('../Data/validation.csv')\n",
    "    \n",
    "    # preprocessing data    \n",
    "    df_train_data = df_train.drop(columns = ['Amount','Class'])\n",
    "    df_train_result = df_train['Class']\n",
    "    df_train_result = to_categorical(df_train_result)\n",
    "    \n",
    "    df_test_data = df_test.drop(columns = ['Amount','Class'])\n",
    "    df_test_result = df_test['Class']\n",
    "    df_test_result = to_categorical(df_test_result)\n",
    "    #create ANN model\n",
    "    model = Sequential([\n",
    "        Dense(64, kernel_initializer='glorot_normal',\n",
    "                bias_initializer='zeros',input_shape=(19,),activation = 'relu'),\n",
    "        Dropout(0.4),\n",
    "        Dense(64,  kernel_initializer='glorot_normal',\n",
    "                bias_initializer='zeros', activation='relu'),\n",
    "        Dropout(0.4),\n",
    "        Dense(64,  kernel_initializer='glorot_normal',\n",
    "                bias_initializer='zeros',activation='relu'),\n",
    "        Dropout(0.4),\n",
    "        Dense(64,  kernel_initializer='glorot_normal',\n",
    "                bias_initializer='zeros',activation='relu'),\n",
    "        Dropout(0.4),\n",
    "        Dense(2,activation='softmax')\n",
    "        ])\n",
    "    \n",
    "    model.compile(\n",
    "        optimizer='adam',\n",
    "        loss= 'binary_crossentropy',\n",
    "        metrics=['accuracy']\n",
    "        )"
   ]
  },
  {
   "cell_type": "code",
   "execution_count": 38,
   "metadata": {},
   "outputs": [],
   "source": [
    "ANN()"
   ]
  },
  {
   "cell_type": "code",
   "execution_count": null,
   "metadata": {},
   "outputs": [],
   "source": []
  }
 ],
 "metadata": {
  "kernelspec": {
   "display_name": "Python 3",
   "language": "python",
   "name": "python3"
  },
  "language_info": {
   "codemirror_mode": {
    "name": "ipython",
    "version": 3
   },
   "file_extension": ".py",
   "mimetype": "text/x-python",
   "name": "python",
   "nbconvert_exporter": "python",
   "pygments_lexer": "ipython3",
   "version": "3.7.5"
  },
  "varInspector": {
   "cols": {
    "lenName": 16,
    "lenType": 16,
    "lenVar": 40
   },
   "kernels_config": {
    "python": {
     "delete_cmd_postfix": "",
     "delete_cmd_prefix": "del ",
     "library": "var_list.py",
     "varRefreshCmd": "print(var_dic_list())"
    },
    "r": {
     "delete_cmd_postfix": ") ",
     "delete_cmd_prefix": "rm(",
     "library": "var_list.r",
     "varRefreshCmd": "cat(var_dic_list()) "
    }
   },
   "types_to_exclude": [
    "module",
    "function",
    "builtin_function_or_method",
    "instance",
    "_Feature"
   ],
   "window_display": false
  }
 },
 "nbformat": 4,
 "nbformat_minor": 2
}
