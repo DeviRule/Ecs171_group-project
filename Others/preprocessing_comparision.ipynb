{
 "cells": [
  {
   "cell_type": "code",
   "execution_count": 2,
   "metadata": {},
   "outputs": [
    {
     "name": "stdout",
     "output_type": "stream",
     "text": [
      "284807\n"
     ]
    }
   ],
   "source": [
    "import pandas as pd\n",
    "from sklearn.neighbors import NearestNeighbors\n",
    "import matplotlib.pyplot as plt\n",
    "import matplotlib.gridspec as gridspec\n",
    "from sklearn.model_selection import train_test_split, GridSearchCV\n",
    "import seaborn as sns\n",
    "from sklearn.linear_model import LogisticRegression\n",
    "from sklearn.metrics import classification_report\n",
    "\n",
    "data  = pd.read_csv('creditcard.csv')\n",
    "X = data.iloc[:,0:-1]\n",
    "y = data.iloc[:, -1]\n",
    "print(y.shape[0])\n",
    "X_train, X_test, y_train, y_test = train_test_split(X, y, test_size = 0.3, random_state = 42)\n",
    "amount_list = X_test['Amount']\n",
    "amount_list = amount_list.to_numpy()"
   ]
  },
  {
   "cell_type": "code",
   "execution_count": 7,
   "metadata": {},
   "outputs": [
    {
     "name": "stderr",
     "output_type": "stream",
     "text": [
      "D:\\Softwares\\Python\\Python37\\lib\\site-packages\\sklearn\\linear_model\\logistic.py:432: FutureWarning: Default solver will be changed to 'lbfgs' in 0.22. Specify a solver to silence this warning.\n  FutureWarning)\n"
     ]
    },
    {
     "name": "stdout",
     "output_type": "stream",
     "text": [
      "              precision    recall  f1-score   support\n\n      normal       1.00      1.00      1.00     85307\n       fraud       1.00      0.01      0.01       136\n\n    accuracy                           1.00     85443\n   macro avg       1.00      0.50      0.51     85443\nweighted avg       1.00      1.00      1.00     85443\n\n"
     ]
    }
   ],
   "source": [
    "#do the simple straighforward SVC\n",
    "from sklearn import svm\n",
    "clf = LogisticRegression(random_state=42, class_weight={0:98, 1:2}).fit(X_train, y_train)\n",
    "target_names = ['normal', 'fraud']\n",
    "print(classification_report(y_test, clf.predict(X_test), target_names=target_names))"
   ]
  },
  {
   "cell_type": "code",
   "execution_count": 8,
   "metadata": {},
   "outputs": [],
   "source": [
    "droplist = ['V8', 'V13', 'V15', 'V20', 'V21', 'V22', 'V23', 'V24', 'V25', 'V26', 'V27', 'V28','Time']\n",
    "data_new = data.drop(droplist, axis = 1)\n",
    "data_new.shape\n",
    "X = data_new.iloc[:,0:-1]\n",
    "y = data_new.iloc[:, -1]\n",
    "X_train, X_test, y_train, y_test = train_test_split(X, y, test_size = 0.3, random_state = 42)\n",
    "amount_list = X_test['Amount']\n",
    "amount_list = amount_list.to_numpy()"
   ]
  },
  {
   "cell_type": "code",
   "execution_count": 7,
   "metadata": {},
   "outputs": [],
   "source": [
    "from imblearn.over_sampling import SMOTE\n",
    "sm = SMOTE(random_state=42)\n",
    "X_smote, y_smote = sm.fit_sample(X, y)\n",
    "n_sample = y_smote.shape[0]\n",
    "n_pos_sample = y_smote[y_smote == 0].shape[0]\n",
    "n_neg_sample = y_smote[y_smote == 1].shape[0]"
   ]
  },
  {
   "cell_type": "code",
   "execution_count": 8,
   "metadata": {},
   "outputs": [
    {
     "name": "stderr",
     "output_type": "stream",
     "text": [
      "D:\\Softwares\\Python\\Python37\\lib\\site-packages\\sklearn\\linear_model\\logistic.py:432: FutureWarning: Default solver will be changed to 'lbfgs' in 0.22. Specify a solver to silence this warning.\n  FutureWarning)\n"
     ]
    },
    {
     "name": "stdout",
     "output_type": "stream",
     "text": [
      "[364.19 520.12  31.   ... 195.6    0.89  10.  ]\n              precision    recall  f1-score   support\n\n      normal       1.00      1.00      1.00     85307\n       fraud       0.77      0.85      0.81       136\n\n    accuracy                           1.00     85443\n   macro avg       0.89      0.93      0.91     85443\nweighted avg       1.00      1.00      1.00     85443\n\n"
     ]
    }
   ],
   "source": [
    "best_model = LogisticRegression(C=0.1, penalty='l2', class_weight = {0:98, 1:2}).fit(X_smote, y_smote)\n",
    "target_names = ['normal', 'fraud']\n",
    "y_predict = best_model.predict(X_test)\n",
    "print(amount_list)\n",
    "for i in range(len(amount_list)):\n",
    "    if amount_list[i] > 2000:\n",
    "        y_predict[i] = 0 #big transaction->normal\n",
    "print(classification_report(y_test, y_predict, target_names=target_names))"
   ]
  },
  {
   "cell_type": "code",
   "execution_count": 9,
   "metadata": {},
   "outputs": [
    {
     "name": "stderr",
     "output_type": "stream",
     "text": [
      "Using TensorFlow backend.\n"
     ]
    },
    {
     "name": "stdout",
     "output_type": "stream",
     "text": [
      "[364.19 520.12  31.   ... 195.6    0.89  10.  ]\n              precision    recall  f1-score   support\n\n      normal       1.00      0.22      0.36     85307\n       fraud       0.00      0.95      0.00       136\n\n    accuracy                           0.22     85443\n   macro avg       0.50      0.58      0.18     85443\nweighted avg       1.00      0.22      0.36     85443\n\n"
     ]
    },
    {
     "name": "stderr",
     "output_type": "stream",
     "text": [
      "D:\\Softwares\\Python\\Python37\\lib\\site-packages\\sklearn\\linear_model\\logistic.py:432: FutureWarning: Default solver will be changed to 'lbfgs' in 0.22. Specify a solver to silence this warning.\n  FutureWarning)\n"
     ]
    }
   ],
   "source": [
    "from imblearn.under_sampling import NearMiss\n",
    "nms = NearMiss(random_state=42)\n",
    "X_nms, y_nms = nms.fit_sample(X, y)\n",
    "from sklearn.svm import SVC\n",
    "near_model = LogisticRegression(C=0.1, penalty='l2', class_weight = {0:98, 1:2}).fit(X_nms, y_nms)\n",
    "target_names = ['normal', 'fraud']\n",
    "y_predict = near_model.predict(X_test)\n",
    "print(amount_list)\n",
    "for i in range(len(amount_list)):\n",
    "    if amount_list[i] > 2000:\n",
    "        y_predict[i] = 0 #big transaction->normal\n",
    "print(classification_report(y_test, y_predict, target_names=target_names))"
   ]
  },
  {
   "cell_type": "code",
   "execution_count": null,
   "metadata": {},
   "outputs": [],
   "source": [
    ""
   ]
  }
 ],
 "metadata": {
  "kernelspec": {
   "display_name": "Python 3",
   "language": "python",
   "name": "python3"
  },
  "language_info": {
   "codemirror_mode": {
    "name": "ipython",
    "version": 3
   },
   "file_extension": ".py",
   "mimetype": "text/x-python",
   "name": "python",
   "nbconvert_exporter": "python",
   "pygments_lexer": "ipython3",
   "version": "3.7.3"
  }
 },
 "nbformat": 4,
 "nbformat_minor": 1
}
