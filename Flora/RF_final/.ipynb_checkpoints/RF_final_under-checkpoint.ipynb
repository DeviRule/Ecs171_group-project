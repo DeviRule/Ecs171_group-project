{
 "cells": [
  {
   "cell_type": "markdown",
   "metadata": {},
   "source": [
    "#### Training Sample: train.csv with undersampling\n",
    "#### Evaluation Sample: validation_under.csv\n",
    "#### Method: OOB\n",
    "#### Output: Best hyperparameters; Pr-curve; ROC AUC"
   ]
  },
  {
   "cell_type": "markdown",
   "metadata": {},
   "source": [
    "# Training Part "
   ]
  },
  {
   "cell_type": "code",
   "execution_count": 8,
   "metadata": {},
   "outputs": [],
   "source": [
    "from imblearn.over_sampling import RandomOverSampler\n",
    "from imblearn.under_sampling import RandomUnderSampler\n",
    "import numpy as np\n",
    "import pandas as pd\n",
    "from sklearn.ensemble import RandomForestClassifier\n",
    "from sklearn.pipeline import Pipeline\n",
    "from sklearn.model_selection import GridSearchCV\n",
    "from sklearn.metrics import auc,f1_score,make_scorer,classification_report, matthews_corrcoef, accuracy_score, average_precision_score, roc_auc_score, roc_curve, precision_recall_curve\n",
    "import matplotlib.pyplot as plt"
   ]
  },
  {
   "cell_type": "markdown",
   "metadata": {},
   "source": [
    "#### Input data is read and named as the following"
   ]
  },
  {
   "cell_type": "code",
   "execution_count": 9,
   "metadata": {},
   "outputs": [],
   "source": [
    "transactions = pd.read_csv('../Data/train.csv')\n",
    "X_train = transactions.drop(labels='Class', axis=1)\n",
    "y_train = transactions.loc[:,'Class']"
   ]
  },
  {
   "cell_type": "code",
   "execution_count": 10,
   "metadata": {},
   "outputs": [],
   "source": [
    "rus = RandomUnderSampler(sampling_strategy=0.8)\n",
    "X_res, Y_res = rus.fit_resample(X_train, y_train)"
   ]
  },
  {
   "cell_type": "markdown",
   "metadata": {},
   "source": [
    "#### Tuning parameters"
   ]
  },
  {
   "cell_type": "code",
   "execution_count": 11,
   "metadata": {},
   "outputs": [],
   "source": [
    "test = 1\n",
    "rf = RandomForestClassifier(n_jobs=-1, random_state=1)\n",
    "\n",
    "if test== 0:\n",
    "    n_estimators = [75,150,800,1000,1200]\n",
    "    min_samples_split = [2, 5]\n",
    "    min_samples_leaf = [1, 5]\n",
    "else:\n",
    "    n_estimators = [800]\n",
    "    min_samples_split = [2]\n",
    "    min_samples_leaf = [1]\n",
    "\n",
    "param_grid_rf = {'n_estimators': n_estimators,\n",
    "                 'min_samples_split': min_samples_split,\n",
    "                 'min_samples_leaf': min_samples_leaf,\n",
    "                 'oob_score': [True]\n",
    "                }"
   ]
  },
  {
   "cell_type": "code",
   "execution_count": 12,
   "metadata": {},
   "outputs": [],
   "source": [
    "grid_rf = GridSearchCV(estimator=rf, param_grid=param_grid_rf,cv = 5,\n",
    "                       n_jobs=-1, pre_dispatch='2*n_jobs', verbose=1, return_train_score=False)\n"
   ]
  },
  {
   "cell_type": "code",
   "execution_count": 13,
   "metadata": {},
   "outputs": [
    {
     "name": "stdout",
     "output_type": "stream",
     "text": [
      "Fitting 5 folds for each of 1 candidates, totalling 5 fits\n"
     ]
    },
    {
     "name": "stderr",
     "output_type": "stream",
     "text": [
      "[Parallel(n_jobs=-1)]: Using backend LokyBackend with 4 concurrent workers.\n",
      "[Parallel(n_jobs=-1)]: Done   5 out of   5 | elapsed:    8.1s finished\n"
     ]
    },
    {
     "data": {
      "text/plain": [
       "GridSearchCV(cv=5, error_score='raise-deprecating',\n",
       "             estimator=RandomForestClassifier(bootstrap=True, class_weight=None,\n",
       "                                              criterion='gini', max_depth=None,\n",
       "                                              max_features='auto',\n",
       "                                              max_leaf_nodes=None,\n",
       "                                              min_impurity_decrease=0.0,\n",
       "                                              min_impurity_split=None,\n",
       "                                              min_samples_leaf=1,\n",
       "                                              min_samples_split=2,\n",
       "                                              min_weight_fraction_leaf=0.0,\n",
       "                                              n_estimators='warn', n_jobs=-1,\n",
       "                                              oob_score=False, random_state=1,\n",
       "                                              verbose=0, warm_start=False),\n",
       "             iid='warn', n_jobs=-1,\n",
       "             param_grid={'min_samples_leaf': [1], 'min_samples_split': [2],\n",
       "                         'n_estimators': [800], 'oob_score': [True]},\n",
       "             pre_dispatch='2*n_jobs', refit=True, return_train_score=False,\n",
       "             scoring=None, verbose=1)"
      ]
     },
     "execution_count": 13,
     "metadata": {},
     "output_type": "execute_result"
    }
   ],
   "source": [
    "grid_rf.fit(X_res,  Y_res)"
   ]
  },
  {
   "cell_type": "markdown",
   "metadata": {},
   "source": [
    "#### The best score and the estimator"
   ]
  },
  {
   "cell_type": "code",
   "execution_count": 14,
   "metadata": {},
   "outputs": [
    {
     "data": {
      "text/plain": [
       "0.9428172942817294"
      ]
     },
     "execution_count": 14,
     "metadata": {},
     "output_type": "execute_result"
    }
   ],
   "source": [
    "grid_rf.best_score_"
   ]
  },
  {
   "cell_type": "code",
   "execution_count": 15,
   "metadata": {},
   "outputs": [
    {
     "data": {
      "text/plain": [
       "{'min_samples_leaf': 1,\n",
       " 'min_samples_split': 2,\n",
       " 'n_estimators': 800,\n",
       " 'oob_score': True}"
      ]
     },
     "execution_count": 15,
     "metadata": {},
     "output_type": "execute_result"
    }
   ],
   "source": [
    "grid_rf.best_params_"
   ]
  },
  {
   "cell_type": "code",
   "execution_count": 16,
   "metadata": {},
   "outputs": [
    {
     "name": "stdout",
     "output_type": "stream",
     "text": [
      "Classification Report for training\n",
      "              precision    recall  f1-score   support\n",
      "\n",
      "           0       1.00      1.00      1.00       398\n",
      "           1       1.00      1.00      1.00       319\n",
      "\n",
      "    accuracy                           1.00       717\n",
      "   macro avg       1.00      1.00      1.00       717\n",
      "weighted avg       1.00      1.00      1.00       717\n",
      "\n"
     ]
    }
   ],
   "source": [
    "y_pre = grid_rf.predict(X_res)\n",
    "print('Classification Report for training')\n",
    "print(classification_report(y_pre, Y_res))"
   ]
  },
  {
   "cell_type": "markdown",
   "metadata": {},
   "source": [
    "# Evaluation Part "
   ]
  },
  {
   "cell_type": "code",
   "execution_count": 17,
   "metadata": {},
   "outputs": [],
   "source": [
    "evaluation = pd.read_csv('../Data/validation_under.csv')\n",
    "X_eval = evaluation.drop(labels='Class', axis=1)\n",
    "y_eval = evaluation.loc[:,'Class']"
   ]
  },
  {
   "cell_type": "code",
   "execution_count": 18,
   "metadata": {},
   "outputs": [],
   "source": [
    "def Random_Forest_eval(estimator, X_test, y_test):\n",
    "    \n",
    "    y_pred = estimator.predict(X_test)\n",
    "\n",
    "    print('Classification Report')\n",
    "    print(classification_report(y_test, y_pred))\n",
    "    y_score = estimator.predict_proba(X_test)[:,1]\n",
    "    print('AUPRC', average_precision_score(y_test, y_score))\n",
    "    print('AUROC', roc_auc_score(y_test, y_score))\n",
    "    "
   ]
  },
  {
   "cell_type": "code",
   "execution_count": 19,
   "metadata": {},
   "outputs": [
    {
     "name": "stdout",
     "output_type": "stream",
     "text": [
      "Classification Report\n",
      "              precision    recall  f1-score   support\n",
      "\n",
      "           0       0.90      0.99      0.94       173\n",
      "           1       0.99      0.89      0.94       173\n",
      "\n",
      "    accuracy                           0.94       346\n",
      "   macro avg       0.94      0.94      0.94       346\n",
      "weighted avg       0.94      0.94      0.94       346\n",
      "\n",
      "AUPRC 0.9840407376319293\n",
      "AUROC 0.9780814594540412\n"
     ]
    }
   ],
   "source": [
    "Random_Forest_eval(grid_rf, X_eval, y_eval)"
   ]
  },
  {
   "cell_type": "markdown",
   "metadata": {},
   "source": [
    "###  Receiver Operating Characteristic Curve"
   ]
  },
  {
   "cell_type": "code",
   "execution_count": 20,
   "metadata": {},
   "outputs": [],
   "source": [
    "def Draw_ROC(Y_prob, Y_observed, model_name = 'Model'):\n",
    "    ns_probs = [0 for _ in range(len(Y_observed))]\n",
    "    # calculate scores\n",
    "    ns_auc = roc_auc_score(Y_observed, ns_probs)\n",
    "    lr_auc = roc_auc_score(Y_observed, Y_prob)\n",
    "    # summarize scores\n",
    "    print('Chance: ROC AUC=%.3f' % (ns_auc))\n",
    "    print('%s: ROC AUC=%.3f' % (model_name, lr_auc))\n",
    "    # calculate roc curves\n",
    "    ns_fpr, ns_tpr, _ = roc_curve(Y_observed, ns_probs, pos_label=1)\n",
    "    lr_fpr, lr_tpr, _ = roc_curve(Y_observed, Y_prob, pos_label=1)\n",
    "    # plot the roc curve for the model\n",
    "    plt.plot(ns_fpr, ns_tpr, linestyle='--', label='Chance')\n",
    "    plt.plot(lr_fpr, lr_tpr, marker='.', label=model_name)\n",
    "    # axis labels\n",
    "    plt.title('Receiver operating characteristic curve')\n",
    "    plt.xlabel('False Positive Rate')\n",
    "    plt.ylabel('True Positive Rate')\n",
    "    # show the legend\n",
    "    plt.legend()\n",
    "    # show the plot\n",
    "    plt.show()"
   ]
  },
  {
   "cell_type": "code",
   "execution_count": 21,
   "metadata": {
    "scrolled": true
   },
   "outputs": [
    {
     "name": "stdout",
     "output_type": "stream",
     "text": [
      "Chance: ROC AUC=0.500\n",
      "Random Forest: ROC AUC=0.978\n"
     ]
    },
    {
     "data": {
      "image/png": "[encoded data removed]",
      "text/plain": [
       "<Figure size 432x288 with 1 Axes>"
      ]
     },
     "metadata": {
      "needs_background": "light"
     },
     "output_type": "display_data"
    }
   ],
   "source": [
    "y_score = grid_rf.predict_proba(X_eval)[:,1]\n",
    "\n",
    "Draw_ROC(y_score, y_eval,'Random Forest')"
   ]
  },
  {
   "cell_type": "markdown",
   "metadata": {},
   "source": [
    "### Precision Recall Curve"
   ]
  },
  {
   "cell_type": "code",
   "execution_count": 22,
   "metadata": {},
   "outputs": [],
   "source": [
    "def Draw_PR(Y_prob, Y_predicted, Y_observed, model_name = 'Model'):\n",
    "    # predict class values\n",
    "    lr_precision, lr_recall, _ = precision_recall_curve(Y_observed, Y_prob, pos_label=1)\n",
    "    lr_f1, lr_auc = f1_score(Y_observed, Y_predicted), auc(lr_recall, lr_precision)\n",
    "    # summarize scores\n",
    "    print('Random Forest: f1=%.3f auc=%.3f' % (lr_f1, lr_auc))\n",
    "    # plot the precision-recall curves\n",
    "    no_skill = len(Y_observed[Y_observed==1]) / len(Y_observed)\n",
    "    plt.plot([0, 1], [no_skill, no_skill], linestyle='--', label='Chance')\n",
    "    plt.plot(lr_recall, lr_precision, marker='.', label=model_name)\n",
    "    # axis labels\n",
    "    plt.title('2-class Precision-Recall curve')\n",
    "    plt.xlabel('Recall')\n",
    "    plt.ylabel('Precision')\n",
    "    # show the legend\n",
    "    plt.legend()\n",
    "    # show the plot\n",
    "    plt.show()"
   ]
  },
  {
   "cell_type": "code",
   "execution_count": 23,
   "metadata": {},
   "outputs": [
    {
     "name": "stdout",
     "output_type": "stream",
     "text": [
      "Random Forest: f1=0.936 auc=0.984\n"
     ]
    },
    {
     "data": {
      "image/png": "[encoded data removed]",
      "text/plain": [
       "<Figure size 432x288 with 1 Axes>"
      ]
     },
     "metadata": {
      "needs_background": "light"
     },
     "output_type": "display_data"
    }
   ],
   "source": [
    "Y_predicted = grid_rf.predict(X_eval)\n",
    "Draw_PR(y_score, Y_predicted, y_eval,'Random Forest')"
   ]
  },
  {
   "cell_type": "code",
   "execution_count": null,
   "metadata": {},
   "outputs": [],
   "source": []
  }
 ],
 "metadata": {
  "kernelspec": {
   "display_name": "Python 3",
   "language": "python",
   "name": "python3"
  },
  "language_info": {
   "codemirror_mode": {
    "name": "ipython",
    "version": 3
   },
   "file_extension": ".py",
   "mimetype": "text/x-python",
   "name": "python",
   "nbconvert_exporter": "python",
   "pygments_lexer": "ipython3",
   "version": "3.5.3"
  }
 },
 "nbformat": 4,
 "nbformat_minor": 4
}
